{
  "cells": [
    {
      "cell_type": "code",
      "execution_count": null,
      "metadata": {
        "id": "C0LXfkTx_mu7"
      },
      "outputs": [],
      "source": [
        "import tensorflow as tf\n",
        "from tensorflow import keras\n",
        "from tensorflow.keras import layers\n",
        "import pandas as pd\n",
        "import numpy as np\n",
        "\n",
        "import logging\n",
        "logging.getLogger(\"tensorflow\").setLevel(logging.ERROR)\n",
        "\n",
        "from sklearn.metrics import accuracy_score\n"
      ]
    },
    {
      "cell_type": "code",
      "execution_count": null,
      "metadata": {
        "id": "04P7NwtvGVe8"
      },
      "outputs": [],
      "source": [
        "# pip install tensorflow==2.7.0."
      ]
    },
    {
      "cell_type": "code",
      "execution_count": null,
      "metadata": {
        "colab": {
          "base_uri": "https://localhost:8080/"
        },
        "id": "rhvKHKNQBOGE",
        "outputId": "00bf357e-48a5-4111-9ee9-7125f7ab7591"
      },
      "outputs": [
        {
          "name": "stdout",
          "output_type": "stream",
          "text": [
            "Mounted at /content/drive\n"
          ]
        }
      ],
      "source": [
        "# Load dataset\n",
        "from google.colab import drive\n",
        "drive.mount('/content/drive')"
      ]
    },
    {
      "cell_type": "code",
      "execution_count": null,
      "metadata": {
        "colab": {
          "base_uri": "https://localhost:8080/"
        },
        "id": "Wex6oMQ4C6Pm",
        "outputId": "6aa13066-1c38-4b58-97f2-de8311301d25"
      },
      "outputs": [
        {
          "name": "stdout",
          "output_type": "stream",
          "text": [
            "[[50 55]\n",
            " [55 60]\n",
            " [60 65]\n",
            " [48 53]\n",
            " [62 67]]\n",
            "[0 0 1 1 0]\n",
            "############\n",
            "[[72 77]\n",
            " [42 47]]\n",
            "[1 0]\n"
          ]
        }
      ],
      "source": [
        "path = '/content/drive/MyDrive/abc/dataset.csv'\n",
        "dataset = pd.read_csv(path)\n",
        "# Indipendent Variables\n",
        "X_train= dataset.iloc[0:5,0:2].values\n",
        "print(X_train)\n",
        "# Dependent Variables\n",
        "Y_train= dataset.iloc[0:5,2].values\n",
        "print(Y_train)\n",
        "print(\"############\")\n",
        "# Indipendent Variables\n",
        "X_test= dataset.iloc[5:7,0:2].values\n",
        "print(X_test)\n",
        "# Dependent Variables\n",
        "Y_test= dataset.iloc[5:7,2].values\n",
        "print(Y_test)"
      ]
    },
    {
      "cell_type": "code",
      "execution_count": null,
      "metadata": {
        "id": "XSDXoD_KE1vN"
      },
      "outputs": [],
      "source": [
        "model = keras.Sequential()\n",
        "model.add(layers.Dense(2, activation=\"relu\"))\n",
        "model.add(layers.Dense(3, activation=\"relu\"))\n",
        "model.add(layers.Dense(3, activation=\"relu\"))\n",
        "model.add(layers.Dense(2))"
      ]
    },
    {
      "cell_type": "code",
      "execution_count": null,
      "metadata": {
        "colab": {
          "base_uri": "https://localhost:8080/"
        },
        "id": "_XX_PR_FHFgV",
        "outputId": "fd338038-7dd7-4d82-cffc-71ef4d1aac8a"
      },
      "outputs": [
        {
          "name": "stdout",
          "output_type": "stream",
          "text": [
            "Epoch 1/200\n",
            "3/3 [==============================] - 0s 5ms/step - loss: 493.5558 - accuracy: 0.4000\n",
            "Epoch 2/200\n",
            "3/3 [==============================] - 0s 5ms/step - loss: 0.6080 - accuracy: 0.4000\n",
            "Epoch 3/200\n",
            "3/3 [==============================] - 0s 5ms/step - loss: 0.5834 - accuracy: 0.4000\n",
            "Epoch 4/200\n",
            "3/3 [==============================] - 0s 5ms/step - loss: 0.5602 - accuracy: 0.4000\n",
            "Epoch 5/200\n",
            "3/3 [==============================] - 0s 4ms/step - loss: 0.5388 - accuracy: 0.4000\n",
            "Epoch 6/200\n",
            "3/3 [==============================] - 0s 4ms/step - loss: 0.5252 - accuracy: 0.4000\n",
            "Epoch 7/200\n",
            "3/3 [==============================] - 0s 4ms/step - loss: 0.5085 - accuracy: 0.4000\n",
            "Epoch 8/200\n",
            "3/3 [==============================] - 0s 4ms/step - loss: 0.4945 - accuracy: 0.4000\n",
            "Epoch 9/200\n",
            "3/3 [==============================] - 0s 4ms/step - loss: 0.4770 - accuracy: 0.4000\n",
            "Epoch 10/200\n",
            "3/3 [==============================] - 0s 4ms/step - loss: 0.4607 - accuracy: 0.4000\n",
            "Epoch 11/200\n",
            "3/3 [==============================] - 0s 5ms/step - loss: 0.4495 - accuracy: 0.4000\n",
            "Epoch 12/200\n",
            "3/3 [==============================] - 0s 5ms/step - loss: 0.4388 - accuracy: 0.4000\n",
            "Epoch 13/200\n",
            "3/3 [==============================] - 0s 5ms/step - loss: 0.4269 - accuracy: 0.4000\n",
            "Epoch 14/200\n",
            "3/3 [==============================] - 0s 5ms/step - loss: 0.4157 - accuracy: 0.4000\n",
            "Epoch 15/200\n",
            "3/3 [==============================] - 0s 5ms/step - loss: 0.4032 - accuracy: 0.4000\n",
            "Epoch 16/200\n",
            "3/3 [==============================] - 0s 7ms/step - loss: 0.3951 - accuracy: 0.4000\n",
            "Epoch 17/200\n",
            "3/3 [==============================] - 0s 7ms/step - loss: 0.3874 - accuracy: 0.4000\n",
            "Epoch 18/200\n",
            "3/3 [==============================] - 0s 5ms/step - loss: 0.3802 - accuracy: 0.4000\n",
            "Epoch 19/200\n",
            "3/3 [==============================] - 0s 6ms/step - loss: 0.3734 - accuracy: 0.4000\n",
            "Epoch 20/200\n",
            "3/3 [==============================] - 0s 4ms/step - loss: 0.3638 - accuracy: 0.4000\n",
            "Epoch 21/200\n",
            "3/3 [==============================] - 0s 6ms/step - loss: 0.3547 - accuracy: 0.4000\n",
            "Epoch 22/200\n",
            "3/3 [==============================] - 0s 5ms/step - loss: 0.3463 - accuracy: 0.4000\n",
            "Epoch 23/200\n",
            "3/3 [==============================] - 0s 5ms/step - loss: 0.3385 - accuracy: 0.4000\n",
            "Epoch 24/200\n",
            "3/3 [==============================] - 0s 5ms/step - loss: 0.3311 - accuracy: 0.4000\n",
            "Epoch 25/200\n",
            "3/3 [==============================] - 0s 7ms/step - loss: 0.3240 - accuracy: 0.4000\n",
            "Epoch 26/200\n",
            "3/3 [==============================] - 0s 5ms/step - loss: 0.3201 - accuracy: 0.4000\n",
            "Epoch 27/200\n",
            "3/3 [==============================] - 0s 5ms/step - loss: 0.3167 - accuracy: 0.4000\n",
            "Epoch 28/200\n",
            "3/3 [==============================] - 0s 5ms/step - loss: 0.3125 - accuracy: 0.4000\n",
            "Epoch 29/200\n",
            "3/3 [==============================] - 0s 5ms/step - loss: 0.3077 - accuracy: 0.4000\n",
            "Epoch 30/200\n",
            "3/3 [==============================] - 0s 4ms/step - loss: 0.3024 - accuracy: 0.4000\n",
            "Epoch 31/200\n",
            "3/3 [==============================] - 0s 5ms/step - loss: 0.2972 - accuracy: 0.4000\n",
            "Epoch 32/200\n",
            "3/3 [==============================] - 0s 5ms/step - loss: 0.2950 - accuracy: 0.4000\n",
            "Epoch 33/200\n",
            "3/3 [==============================] - 0s 5ms/step - loss: 0.2903 - accuracy: 0.4000\n",
            "Epoch 34/200\n",
            "3/3 [==============================] - 0s 6ms/step - loss: 0.2885 - accuracy: 0.4000\n",
            "Epoch 35/200\n",
            "3/3 [==============================] - 0s 5ms/step - loss: 0.2842 - accuracy: 0.4000\n",
            "Epoch 36/200\n",
            "3/3 [==============================] - 0s 5ms/step - loss: 0.2828 - accuracy: 0.4000\n",
            "Epoch 37/200\n",
            "3/3 [==============================] - 0s 5ms/step - loss: 0.2793 - accuracy: 0.4000\n",
            "Epoch 38/200\n",
            "3/3 [==============================] - 0s 5ms/step - loss: 0.2756 - accuracy: 0.4000\n",
            "Epoch 39/200\n",
            "3/3 [==============================] - 0s 4ms/step - loss: 0.2742 - accuracy: 0.4000\n",
            "Epoch 40/200\n",
            "3/3 [==============================] - 0s 5ms/step - loss: 0.2728 - accuracy: 0.4000\n",
            "Epoch 41/200\n",
            "3/3 [==============================] - 0s 4ms/step - loss: 0.2735 - accuracy: 0.4000\n",
            "Epoch 42/200\n",
            "3/3 [==============================] - 0s 7ms/step - loss: 0.2703 - accuracy: 0.4000\n",
            "Epoch 43/200\n",
            "3/3 [==============================] - 0s 7ms/step - loss: 0.2696 - accuracy: 0.4000\n",
            "Epoch 44/200\n",
            "3/3 [==============================] - 0s 5ms/step - loss: 0.2671 - accuracy: 0.4000\n",
            "Epoch 45/200\n",
            "3/3 [==============================] - 0s 5ms/step - loss: 0.2642 - accuracy: 0.4000\n",
            "Epoch 46/200\n",
            "3/3 [==============================] - 0s 5ms/step - loss: 0.2639 - accuracy: 0.4000\n",
            "Epoch 47/200\n",
            "3/3 [==============================] - 0s 5ms/step - loss: 0.2632 - accuracy: 0.4000\n",
            "Epoch 48/200\n",
            "3/3 [==============================] - 0s 5ms/step - loss: 0.2625 - accuracy: 0.4000\n",
            "Epoch 49/200\n",
            "3/3 [==============================] - 0s 5ms/step - loss: 0.2618 - accuracy: 0.4000\n",
            "Epoch 50/200\n",
            "3/3 [==============================] - 0s 5ms/step - loss: 0.2597 - accuracy: 0.4000\n",
            "Epoch 51/200\n",
            "3/3 [==============================] - 0s 5ms/step - loss: 0.2574 - accuracy: 0.4000\n",
            "Epoch 52/200\n",
            "3/3 [==============================] - 0s 5ms/step - loss: 0.2574 - accuracy: 0.4000\n",
            "Epoch 53/200\n",
            "3/3 [==============================] - 0s 5ms/step - loss: 0.2552 - accuracy: 0.4000\n",
            "Epoch 54/200\n",
            "3/3 [==============================] - 0s 5ms/step - loss: 0.2547 - accuracy: 0.4000\n",
            "Epoch 55/200\n",
            "3/3 [==============================] - 0s 5ms/step - loss: 0.2549 - accuracy: 0.4000\n",
            "Epoch 56/200\n",
            "3/3 [==============================] - 0s 5ms/step - loss: 0.2549 - accuracy: 0.4000\n",
            "Epoch 57/200\n",
            "3/3 [==============================] - 0s 5ms/step - loss: 0.2525 - accuracy: 0.4000\n",
            "Epoch 58/200\n",
            "3/3 [==============================] - 0s 5ms/step - loss: 0.2528 - accuracy: 0.4000\n",
            "Epoch 59/200\n",
            "3/3 [==============================] - 0s 5ms/step - loss: 0.2516 - accuracy: 0.4000\n",
            "Epoch 60/200\n",
            "3/3 [==============================] - 0s 5ms/step - loss: 0.2498 - accuracy: 0.4000\n",
            "Epoch 61/200\n",
            "3/3 [==============================] - 0s 5ms/step - loss: 0.2516 - accuracy: 0.4000\n",
            "Epoch 62/200\n",
            "3/3 [==============================] - 0s 5ms/step - loss: 0.2494 - accuracy: 0.4000\n",
            "Epoch 63/200\n",
            "3/3 [==============================] - 0s 6ms/step - loss: 0.2498 - accuracy: 0.4000\n",
            "Epoch 64/200\n",
            "3/3 [==============================] - 0s 6ms/step - loss: 0.2482 - accuracy: 0.4000\n",
            "Epoch 65/200\n",
            "3/3 [==============================] - 0s 6ms/step - loss: 0.2480 - accuracy: 0.4000\n",
            "Epoch 66/200\n",
            "3/3 [==============================] - 0s 5ms/step - loss: 0.2479 - accuracy: 0.4000\n",
            "Epoch 67/200\n",
            "3/3 [==============================] - 0s 5ms/step - loss: 0.2484 - accuracy: 0.4000\n",
            "Epoch 68/200\n",
            "3/3 [==============================] - 0s 6ms/step - loss: 0.2469 - accuracy: 0.4000\n",
            "Epoch 69/200\n",
            "3/3 [==============================] - 0s 5ms/step - loss: 0.2468 - accuracy: 0.4000\n",
            "Epoch 70/200\n",
            "3/3 [==============================] - 0s 6ms/step - loss: 0.2487 - accuracy: 0.4000\n",
            "Epoch 71/200\n",
            "3/3 [==============================] - 0s 6ms/step - loss: 0.2486 - accuracy: 0.4000\n",
            "Epoch 72/200\n",
            "3/3 [==============================] - 0s 5ms/step - loss: 0.2472 - accuracy: 0.4000\n",
            "Epoch 73/200\n",
            "3/3 [==============================] - 0s 4ms/step - loss: 0.2477 - accuracy: 0.4000\n",
            "Epoch 74/200\n",
            "3/3 [==============================] - 0s 5ms/step - loss: 0.2457 - accuracy: 0.4000\n",
            "Epoch 75/200\n",
            "3/3 [==============================] - 0s 7ms/step - loss: 0.2476 - accuracy: 0.4000\n",
            "Epoch 76/200\n",
            "3/3 [==============================] - 0s 5ms/step - loss: 0.2462 - accuracy: 0.4000\n",
            "Epoch 77/200\n",
            "3/3 [==============================] - 0s 5ms/step - loss: 0.2449 - accuracy: 0.4000\n",
            "Epoch 78/200\n",
            "3/3 [==============================] - 0s 6ms/step - loss: 0.2448 - accuracy: 0.4000\n",
            "Epoch 79/200\n",
            "3/3 [==============================] - 0s 6ms/step - loss: 0.2448 - accuracy: 0.4000\n",
            "Epoch 80/200\n",
            "3/3 [==============================] - 0s 5ms/step - loss: 0.2468 - accuracy: 0.4000\n",
            "Epoch 81/200\n",
            "3/3 [==============================] - 0s 6ms/step - loss: 0.2448 - accuracy: 0.4000\n",
            "Epoch 82/200\n",
            "3/3 [==============================] - 0s 6ms/step - loss: 0.2454 - accuracy: 0.4000\n",
            "Epoch 83/200\n",
            "3/3 [==============================] - 0s 5ms/step - loss: 0.2448 - accuracy: 0.4000\n",
            "Epoch 84/200\n",
            "3/3 [==============================] - 0s 5ms/step - loss: 0.2436 - accuracy: 0.4000\n",
            "Epoch 85/200\n",
            "3/3 [==============================] - 0s 5ms/step - loss: 0.2456 - accuracy: 0.4000\n",
            "Epoch 86/200\n",
            "3/3 [==============================] - 0s 5ms/step - loss: 0.2436 - accuracy: 0.4000\n",
            "Epoch 87/200\n",
            "3/3 [==============================] - 0s 5ms/step - loss: 0.2436 - accuracy: 0.4000\n",
            "Epoch 88/200\n",
            "3/3 [==============================] - 0s 5ms/step - loss: 0.2437 - accuracy: 0.4000\n",
            "Epoch 89/200\n",
            "3/3 [==============================] - 0s 5ms/step - loss: 0.2444 - accuracy: 0.4000\n",
            "Epoch 90/200\n",
            "3/3 [==============================] - 0s 5ms/step - loss: 0.2432 - accuracy: 0.4000\n",
            "Epoch 91/200\n",
            "3/3 [==============================] - 0s 6ms/step - loss: 0.2432 - accuracy: 0.4000\n",
            "Epoch 92/200\n",
            "3/3 [==============================] - 0s 6ms/step - loss: 0.2432 - accuracy: 0.4000\n",
            "Epoch 93/200\n",
            "3/3 [==============================] - 0s 5ms/step - loss: 0.2433 - accuracy: 0.4000\n",
            "Epoch 94/200\n",
            "3/3 [==============================] - 0s 5ms/step - loss: 0.2440 - accuracy: 0.4000\n",
            "Epoch 95/200\n",
            "3/3 [==============================] - 0s 5ms/step - loss: 0.2435 - accuracy: 0.4000\n",
            "Epoch 96/200\n",
            "3/3 [==============================] - 0s 5ms/step - loss: 0.2431 - accuracy: 0.4000\n",
            "Epoch 97/200\n",
            "3/3 [==============================] - 0s 6ms/step - loss: 0.2420 - accuracy: 0.4000\n",
            "Epoch 98/200\n",
            "3/3 [==============================] - 0s 5ms/step - loss: 0.2428 - accuracy: 0.4000\n",
            "Epoch 99/200\n",
            "3/3 [==============================] - 0s 6ms/step - loss: 0.2425 - accuracy: 0.4000\n",
            "Epoch 100/200\n",
            "3/3 [==============================] - 0s 5ms/step - loss: 0.2415 - accuracy: 0.4000\n",
            "Epoch 101/200\n",
            "3/3 [==============================] - 0s 5ms/step - loss: 0.2435 - accuracy: 0.4000\n",
            "Epoch 102/200\n",
            "3/3 [==============================] - 0s 5ms/step - loss: 0.2436 - accuracy: 0.4000\n",
            "Epoch 103/200\n",
            "3/3 [==============================] - 0s 5ms/step - loss: 0.2424 - accuracy: 0.4000\n",
            "Epoch 104/200\n",
            "3/3 [==============================] - 0s 5ms/step - loss: 0.2421 - accuracy: 0.4000\n",
            "Epoch 105/200\n",
            "3/3 [==============================] - 0s 5ms/step - loss: 0.2411 - accuracy: 0.4000\n",
            "Epoch 106/200\n",
            "3/3 [==============================] - 0s 5ms/step - loss: 0.2412 - accuracy: 0.4000\n",
            "Epoch 107/200\n",
            "3/3 [==============================] - 0s 5ms/step - loss: 0.2420 - accuracy: 0.4000\n",
            "Epoch 108/200\n",
            "3/3 [==============================] - 0s 5ms/step - loss: 0.2430 - accuracy: 0.4000\n",
            "Epoch 109/200\n",
            "3/3 [==============================] - 0s 6ms/step - loss: 0.2411 - accuracy: 0.4000\n",
            "Epoch 110/200\n",
            "3/3 [==============================] - 0s 5ms/step - loss: 0.2419 - accuracy: 0.4000\n",
            "Epoch 111/200\n",
            "3/3 [==============================] - 0s 5ms/step - loss: 0.2409 - accuracy: 0.4000\n",
            "Epoch 112/200\n",
            "3/3 [==============================] - 0s 5ms/step - loss: 0.2417 - accuracy: 0.4000\n",
            "Epoch 113/200\n",
            "3/3 [==============================] - 0s 4ms/step - loss: 0.2408 - accuracy: 0.4000\n",
            "Epoch 114/200\n",
            "3/3 [==============================] - 0s 4ms/step - loss: 0.2416 - accuracy: 0.4000\n",
            "Epoch 115/200\n",
            "3/3 [==============================] - 0s 5ms/step - loss: 0.2407 - accuracy: 0.4000\n",
            "Epoch 116/200\n",
            "3/3 [==============================] - 0s 4ms/step - loss: 0.2415 - accuracy: 0.4000\n",
            "Epoch 117/200\n",
            "3/3 [==============================] - 0s 5ms/step - loss: 0.2426 - accuracy: 0.4000\n",
            "Epoch 118/200\n",
            "3/3 [==============================] - 0s 5ms/step - loss: 0.2414 - accuracy: 0.4000\n",
            "Epoch 119/200\n",
            "3/3 [==============================] - 0s 4ms/step - loss: 0.2413 - accuracy: 0.4000\n",
            "Epoch 120/200\n",
            "3/3 [==============================] - 0s 5ms/step - loss: 0.2404 - accuracy: 0.4000\n",
            "Epoch 121/200\n",
            "3/3 [==============================] - 0s 5ms/step - loss: 0.2413 - accuracy: 0.4000\n",
            "Epoch 122/200\n",
            "3/3 [==============================] - 0s 4ms/step - loss: 0.2404 - accuracy: 0.4000\n",
            "Epoch 123/200\n",
            "3/3 [==============================] - 0s 5ms/step - loss: 0.2412 - accuracy: 0.4000\n",
            "Epoch 124/200\n",
            "3/3 [==============================] - 0s 4ms/step - loss: 0.2404 - accuracy: 0.4000\n",
            "Epoch 125/200\n",
            "3/3 [==============================] - 0s 5ms/step - loss: 0.2404 - accuracy: 0.4000\n",
            "Epoch 126/200\n",
            "3/3 [==============================] - 0s 4ms/step - loss: 0.2412 - accuracy: 0.4000\n",
            "Epoch 127/200\n",
            "3/3 [==============================] - 0s 4ms/step - loss: 0.2404 - accuracy: 0.4000\n",
            "Epoch 128/200\n",
            "3/3 [==============================] - 0s 4ms/step - loss: 0.2404 - accuracy: 0.4000\n",
            "Epoch 129/200\n",
            "3/3 [==============================] - 0s 4ms/step - loss: 0.2424 - accuracy: 0.4000\n",
            "Epoch 130/200\n",
            "3/3 [==============================] - 0s 5ms/step - loss: 0.2405 - accuracy: 0.4000\n",
            "Epoch 131/200\n",
            "3/3 [==============================] - 0s 4ms/step - loss: 0.2425 - accuracy: 0.4000\n",
            "Epoch 132/200\n",
            "3/3 [==============================] - 0s 4ms/step - loss: 0.2413 - accuracy: 0.4000\n",
            "Epoch 133/200\n",
            "3/3 [==============================] - 0s 4ms/step - loss: 0.2404 - accuracy: 0.4000\n",
            "Epoch 134/200\n",
            "3/3 [==============================] - 0s 6ms/step - loss: 0.2413 - accuracy: 0.4000\n",
            "Epoch 135/200\n",
            "3/3 [==============================] - 0s 7ms/step - loss: 0.2412 - accuracy: 0.4000\n",
            "Epoch 136/200\n",
            "3/3 [==============================] - 0s 5ms/step - loss: 0.2403 - accuracy: 0.4000\n",
            "Epoch 137/200\n",
            "3/3 [==============================] - 0s 4ms/step - loss: 0.2411 - accuracy: 0.4000\n",
            "Epoch 138/200\n",
            "3/3 [==============================] - 0s 5ms/step - loss: 0.2411 - accuracy: 0.4000\n",
            "Epoch 139/200\n",
            "3/3 [==============================] - 0s 5ms/step - loss: 0.2403 - accuracy: 0.4000\n",
            "Epoch 140/200\n",
            "3/3 [==============================] - 0s 5ms/step - loss: 0.2411 - accuracy: 0.4000\n",
            "Epoch 141/200\n",
            "3/3 [==============================] - 0s 5ms/step - loss: 0.2411 - accuracy: 0.4000\n",
            "Epoch 142/200\n",
            "3/3 [==============================] - 0s 4ms/step - loss: 0.2403 - accuracy: 0.4000\n",
            "Epoch 143/200\n",
            "3/3 [==============================] - 0s 4ms/step - loss: 0.2403 - accuracy: 0.4000\n",
            "Epoch 144/200\n",
            "3/3 [==============================] - 0s 5ms/step - loss: 0.2411 - accuracy: 0.4000\n",
            "Epoch 145/200\n",
            "3/3 [==============================] - 0s 4ms/step - loss: 0.2423 - accuracy: 0.4000\n",
            "Epoch 146/200\n",
            "3/3 [==============================] - 0s 5ms/step - loss: 0.2423 - accuracy: 0.4000\n",
            "Epoch 147/200\n",
            "3/3 [==============================] - 0s 4ms/step - loss: 0.2423 - accuracy: 0.4000\n",
            "Epoch 148/200\n",
            "3/3 [==============================] - 0s 5ms/step - loss: 0.2411 - accuracy: 0.4000\n",
            "Epoch 149/200\n",
            "3/3 [==============================] - 0s 4ms/step - loss: 0.2423 - accuracy: 0.4000\n",
            "Epoch 150/200\n",
            "3/3 [==============================] - 0s 4ms/step - loss: 0.2411 - accuracy: 0.4000\n",
            "Epoch 151/200\n",
            "3/3 [==============================] - 0s 5ms/step - loss: 0.2423 - accuracy: 0.4000\n",
            "Epoch 152/200\n",
            "3/3 [==============================] - 0s 4ms/step - loss: 0.2411 - accuracy: 0.4000\n",
            "Epoch 153/200\n",
            "3/3 [==============================] - 0s 4ms/step - loss: 0.2402 - accuracy: 0.4000\n",
            "Epoch 154/200\n",
            "3/3 [==============================] - 0s 4ms/step - loss: 0.2411 - accuracy: 0.4000\n",
            "Epoch 155/200\n",
            "3/3 [==============================] - 0s 4ms/step - loss: 0.2411 - accuracy: 0.4000\n",
            "Epoch 156/200\n",
            "3/3 [==============================] - 0s 4ms/step - loss: 0.2411 - accuracy: 0.4000\n",
            "Epoch 157/200\n",
            "3/3 [==============================] - 0s 4ms/step - loss: 0.2403 - accuracy: 0.4000\n",
            "Epoch 158/200\n",
            "3/3 [==============================] - 0s 4ms/step - loss: 0.2411 - accuracy: 0.4000\n",
            "Epoch 159/200\n",
            "3/3 [==============================] - 0s 5ms/step - loss: 0.2403 - accuracy: 0.4000\n",
            "Epoch 160/200\n",
            "3/3 [==============================] - 0s 4ms/step - loss: 0.2411 - accuracy: 0.4000\n",
            "Epoch 161/200\n",
            "3/3 [==============================] - 0s 4ms/step - loss: 0.2403 - accuracy: 0.4000\n",
            "Epoch 162/200\n",
            "3/3 [==============================] - 0s 5ms/step - loss: 0.2403 - accuracy: 0.4000\n",
            "Epoch 163/200\n",
            "3/3 [==============================] - 0s 6ms/step - loss: 0.2403 - accuracy: 0.4000\n",
            "Epoch 164/200\n",
            "3/3 [==============================] - 0s 6ms/step - loss: 0.2410 - accuracy: 0.4000\n",
            "Epoch 165/200\n",
            "3/3 [==============================] - 0s 5ms/step - loss: 0.2411 - accuracy: 0.4000\n",
            "Epoch 166/200\n",
            "3/3 [==============================] - 0s 5ms/step - loss: 0.2403 - accuracy: 0.4000\n",
            "Epoch 167/200\n",
            "3/3 [==============================] - 0s 7ms/step - loss: 0.2411 - accuracy: 0.4000\n",
            "Epoch 168/200\n",
            "3/3 [==============================] - 0s 6ms/step - loss: 0.2403 - accuracy: 0.4000\n",
            "Epoch 169/200\n",
            "3/3 [==============================] - 0s 5ms/step - loss: 0.2423 - accuracy: 0.4000\n",
            "Epoch 170/200\n",
            "3/3 [==============================] - 0s 5ms/step - loss: 0.2411 - accuracy: 0.4000\n",
            "Epoch 171/200\n",
            "3/3 [==============================] - 0s 5ms/step - loss: 0.2411 - accuracy: 0.4000\n",
            "Epoch 172/200\n",
            "3/3 [==============================] - 0s 5ms/step - loss: 0.2403 - accuracy: 0.4000\n",
            "Epoch 173/200\n",
            "3/3 [==============================] - 0s 5ms/step - loss: 0.2403 - accuracy: 0.4000\n",
            "Epoch 174/200\n",
            "3/3 [==============================] - 0s 5ms/step - loss: 0.2423 - accuracy: 0.4000\n",
            "Epoch 175/200\n",
            "3/3 [==============================] - 0s 5ms/step - loss: 0.2423 - accuracy: 0.4000\n",
            "Epoch 176/200\n",
            "3/3 [==============================] - 0s 6ms/step - loss: 0.2402 - accuracy: 0.4000\n",
            "Epoch 177/200\n",
            "3/3 [==============================] - 0s 5ms/step - loss: 0.2410 - accuracy: 0.4000\n",
            "Epoch 178/200\n",
            "3/3 [==============================] - 0s 5ms/step - loss: 0.2411 - accuracy: 0.4000\n",
            "Epoch 179/200\n",
            "3/3 [==============================] - 0s 5ms/step - loss: 0.2403 - accuracy: 0.4000\n",
            "Epoch 180/200\n",
            "3/3 [==============================] - 0s 5ms/step - loss: 0.2402 - accuracy: 0.4000\n",
            "Epoch 181/200\n",
            "3/3 [==============================] - 0s 5ms/step - loss: 0.2410 - accuracy: 0.4000\n",
            "Epoch 182/200\n",
            "3/3 [==============================] - 0s 5ms/step - loss: 0.2423 - accuracy: 0.4000\n",
            "Epoch 183/200\n",
            "3/3 [==============================] - 0s 5ms/step - loss: 0.2402 - accuracy: 0.4000\n",
            "Epoch 184/200\n",
            "3/3 [==============================] - 0s 5ms/step - loss: 0.2410 - accuracy: 0.4000\n",
            "Epoch 185/200\n",
            "3/3 [==============================] - 0s 5ms/step - loss: 0.2410 - accuracy: 0.4000\n",
            "Epoch 186/200\n",
            "3/3 [==============================] - 0s 6ms/step - loss: 0.2411 - accuracy: 0.4000\n",
            "Epoch 187/200\n",
            "3/3 [==============================] - 0s 6ms/step - loss: 0.2403 - accuracy: 0.4000\n",
            "Epoch 188/200\n",
            "3/3 [==============================] - 0s 7ms/step - loss: 0.2403 - accuracy: 0.4000\n",
            "Epoch 189/200\n",
            "3/3 [==============================] - 0s 6ms/step - loss: 0.2423 - accuracy: 0.4000\n",
            "Epoch 190/200\n",
            "3/3 [==============================] - 0s 7ms/step - loss: 0.2410 - accuracy: 0.4000\n",
            "Epoch 191/200\n",
            "3/3 [==============================] - 0s 6ms/step - loss: 0.2411 - accuracy: 0.4000\n",
            "Epoch 192/200\n",
            "3/3 [==============================] - 0s 6ms/step - loss: 0.2411 - accuracy: 0.4000\n",
            "Epoch 193/200\n",
            "3/3 [==============================] - 0s 6ms/step - loss: 0.2412 - accuracy: 0.4000\n",
            "Epoch 194/200\n",
            "3/3 [==============================] - 0s 12ms/step - loss: 0.2412 - accuracy: 0.4000\n",
            "Epoch 195/200\n",
            "3/3 [==============================] - 0s 5ms/step - loss: 0.2413 - accuracy: 0.4000\n",
            "Epoch 196/200\n",
            "3/3 [==============================] - 0s 5ms/step - loss: 0.2406 - accuracy: 0.4000\n",
            "Epoch 197/200\n",
            "3/3 [==============================] - 0s 7ms/step - loss: 0.2405 - accuracy: 0.4000\n",
            "Epoch 198/200\n",
            "3/3 [==============================] - 0s 6ms/step - loss: 0.2404 - accuracy: 0.4000\n",
            "Epoch 199/200\n",
            "3/3 [==============================] - 0s 8ms/step - loss: 0.2424 - accuracy: 0.4000\n",
            "Epoch 200/200\n",
            "3/3 [==============================] - 0s 6ms/step - loss: 0.2403 - accuracy: 0.4000\n"
          ]
        },
        {
          "data": {
            "text/plain": [
              "<keras.callbacks.History at 0x7f576fb94610>"
            ]
          },
          "execution_count": 8,
          "metadata": {},
          "output_type": "execute_result"
        }
      ],
      "source": [
        "model.compile(optimizer='sgd', loss='mse', metrics=['accuracy'])\n",
        "# This builds the model for the first time:\n",
        "model.fit(X_train, Y_train, batch_size=2, epochs=200)"
      ]
    },
    {
      "cell_type": "code",
      "execution_count": null,
      "metadata": {
        "colab": {
          "base_uri": "https://localhost:8080/"
        },
        "id": "zYzW7WwgMgCS",
        "outputId": "c53f7eb6-4bc8-427a-dc52-9d3c10b0a94d"
      },
      "outputs": [
        {
          "name": "stdout",
          "output_type": "stream",
          "text": [
            "1/1 [==============================] - 0s 87ms/step\n",
            "[[0.40561518 0.4069409 ]\n",
            " [0.40561518 0.4069409 ]]\n",
            "[1 1]\n",
            "[1 0]\n"
          ]
        }
      ],
      "source": [
        "y_pred = model.predict(X_test, batch_size=2)\n",
        "print(y_pred)\n",
        "y_pred1D = y_pred.argmax(1)\n",
        "print(y_pred1D)\n",
        "print (Y_test)"
      ]
    },
    {
      "cell_type": "code",
      "execution_count": null,
      "metadata": {
        "colab": {
          "base_uri": "https://localhost:8080/"
        },
        "id": "ZFCiRlqdTD_4",
        "outputId": "ea7370ef-e3b7-4ede-9a16-3656282c29b0"
      },
      "outputs": [
        {
          "name": "stdout",
          "output_type": "stream",
          "text": [
            "0.5\n"
          ]
        }
      ],
      "source": [
        "print(accuracy_score(Y_test,y_pred1D))"
      ]
    },
    {
      "cell_type": "code",
      "execution_count": null,
      "metadata": {
        "id": "BrSuhhgpT1pj"
      },
      "outputs": [],
      "source": [
        "model.save('/content/drive/MyDrive/abc/mymodel1')"
      ]
    },
    {
      "cell_type": "code",
      "execution_count": null,
      "metadata": {
        "colab": {
          "base_uri": "https://localhost:8080/"
        },
        "id": "sc_RyoShUGd5",
        "outputId": "0436e966-ff53-48e8-f184-3642f82e916f"
      },
      "outputs": [
        {
          "name": "stdout",
          "output_type": "stream",
          "text": [
            "1/1 [==============================] - 0s 109ms/step\n",
            "[[0.3938016 0.3938016 0.3938016 0.3938016]\n",
            " [0.3938016 0.3938016 0.3938016 0.3938016]]\n",
            "[0 0]\n",
            "[1 0]\n"
          ]
        }
      ],
      "source": [
        "model1 = keras.models.load_model('/content/drive/MyDrive/abc/mymodel')\n",
        "\n",
        "y_pred = model1.predict(X_test, batch_size=2)\n",
        "print(y_pred)\n",
        "y_pred1D = y_pred.argmax(1)\n",
        "print(y_pred1D)\n",
        "print (Y_test)"
      ]
    },
    {
      "cell_type": "code",
      "execution_count": null,
      "metadata": {
        "colab": {
          "base_uri": "https://localhost:8080/"
        },
        "id": "tWimcl_TVFTq",
        "outputId": "8d92abb8-017d-4ee3-903e-255545a759ee"
      },
      "outputs": [
        {
          "name": "stdout",
          "output_type": "stream",
          "text": [
            "Looking in indexes: https://pypi.org/simple, https://us-python.pkg.dev/colab-wheels/public/simple/\n",
            "Collecting flask-ngrok\n",
            "  Downloading flask_ngrok-0.0.25-py3-none-any.whl (3.1 kB)\n",
            "Requirement already satisfied: Flask>=0.8 in /usr/local/lib/python3.8/dist-packages (from flask-ngrok) (1.1.4)\n",
            "Requirement already satisfied: requests in /usr/local/lib/python3.8/dist-packages (from flask-ngrok) (2.25.1)\n",
            "Requirement already satisfied: Werkzeug<2.0,>=0.15 in /usr/local/lib/python3.8/dist-packages (from Flask>=0.8->flask-ngrok) (1.0.1)\n",
            "Requirement already satisfied: Jinja2<3.0,>=2.10.1 in /usr/local/lib/python3.8/dist-packages (from Flask>=0.8->flask-ngrok) (2.11.3)\n",
            "Requirement already satisfied: itsdangerous<2.0,>=0.24 in /usr/local/lib/python3.8/dist-packages (from Flask>=0.8->flask-ngrok) (1.1.0)\n",
            "Requirement already satisfied: click<8.0,>=5.1 in /usr/local/lib/python3.8/dist-packages (from Flask>=0.8->flask-ngrok) (7.1.2)\n",
            "Requirement already satisfied: urllib3<1.27,>=1.21.1 in /usr/local/lib/python3.8/dist-packages (from requests->flask-ngrok) (1.24.3)\n",
            "Requirement already satisfied: idna<3,>=2.5 in /usr/local/lib/python3.8/dist-packages (from requests->flask-ngrok) (2.10)\n",
            "Requirement already satisfied: chardet<5,>=3.0.2 in /usr/local/lib/python3.8/dist-packages (from requests->flask-ngrok) (4.0.0)\n",
            "Requirement already satisfied: certifi>=2017.4.17 in /usr/local/lib/python3.8/dist-packages (from requests->flask-ngrok) (2022.12.7)\n",
            "Requirement already satisfied: MarkupSafe>=0.23 in /usr/local/lib/python3.8/dist-packages (from Jinja2<3.0,>=2.10.1->Flask>=0.8->flask-ngrok) (2.0.1)\n",
            "Installing collected packages: flask-ngrok\n",
            "Successfully installed flask-ngrok-0.0.25\n"
          ]
        }
      ],
      "source": [
        "!pip install flask-ngrok"
      ]
    },
    {
      "cell_type": "code",
      "execution_count": null,
      "metadata": {
        "colab": {
          "base_uri": "https://localhost:8080/"
        },
        "id": "Q89L7szvc5d2",
        "outputId": "d1de6b4a-c8e3-4a5f-9e7e-e52c6eacac61"
      },
      "outputs": [
        {
          "name": "stdout",
          "output_type": "stream",
          "text": [
            "Looking in indexes: https://pypi.org/simple, https://us-python.pkg.dev/colab-wheels/public/simple/\n",
            "Collecting pyngrok\n",
            "  Downloading pyngrok-5.2.1.tar.gz (761 kB)\n",
            "\u001b[2K     \u001b[90m━━━━━━━━━━━━━━━━━━━━━━━━━━━━━━━━━━━━━━\u001b[0m \u001b[32m761.3/761.3 KB\u001b[0m \u001b[31m14.9 MB/s\u001b[0m eta \u001b[36m0:00:00\u001b[0m\n",
            "\u001b[?25h  Preparing metadata (setup.py) ... \u001b[?25l\u001b[?25hdone\n",
            "Requirement already satisfied: PyYAML in /usr/local/lib/python3.8/dist-packages (from pyngrok) (6.0)\n",
            "Building wheels for collected packages: pyngrok\n",
            "  Building wheel for pyngrok (setup.py) ... \u001b[?25l\u001b[?25hdone\n",
            "  Created wheel for pyngrok: filename=pyngrok-5.2.1-py3-none-any.whl size=19792 sha256=9294a67aeed9dc9073e5341f598783eaacedf2c0824ca2e3a6c175e40c5203cc\n",
            "  Stored in directory: /root/.cache/pip/wheels/5d/f2/70/526da675d32f17577ec47ac4c663084efe39d47c826b6c3bb1\n",
            "Successfully built pyngrok\n",
            "Installing collected packages: pyngrok\n",
            "Successfully installed pyngrok-5.2.1\n"
          ]
        }
      ],
      "source": [
        "!pip install pyngrok"
      ]
    },
    {
      "cell_type": "code",
      "execution_count": null,
      "metadata": {
        "colab": {
          "base_uri": "https://localhost:8080/"
        },
        "id": "19IE-eqQb73E",
        "outputId": "bcb60696-4b1e-40fc-8f82-7041a5043ea7"
      },
      "outputs": [
        {
          "name": "stdout",
          "output_type": "stream",
          "text": []
        }
      ],
      "source": [
        "from flask import Flask\n",
        "from pyngrok import ngrok\n",
        "ngrok.set_auth_token(\"2K5XJE4Uufsi0kXznTRSD799aIW_5zMt8qeGdjdKjgE3JP6db\")"
      ]
    },
    {
      "cell_type": "code",
      "execution_count": null,
      "metadata": {
        "colab": {
          "background_save": true,
          "base_uri": "https://localhost:8080/"
        },
        "id": "_qdJoiEFWr1K",
        "outputId": "c7bd6235-234c-4be2-c936-abff8743eb9e"
      },
      "outputs": [
        {
          "name": "stdout",
          "output_type": "stream",
          "text": [
            " * Serving Flask app \"__main__\" (lazy loading)\n",
            " * Environment: production\n",
            "\u001b[31m   WARNING: This is a development server. Do not use it in a production deployment.\u001b[0m\n",
            "\u001b[2m   Use a production WSGI server instead.\u001b[0m\n",
            " * Debug mode: off\n"
          ]
        },
        {
          "name": "stderr",
          "output_type": "stream",
          "text": [
            "INFO:werkzeug: * Running on http://127.0.0.1:5000/ (Press CTRL+C to quit)\n"
          ]
        },
        {
          "name": "stdout",
          "output_type": "stream",
          "text": [
            " * Running on http://b45c-34-125-137-143.ngrok.io\n",
            " * Traffic stats available on http://127.0.0.1:4040\n"
          ]
        },
        {
          "name": "stderr",
          "output_type": "stream",
          "text": [
            "INFO:werkzeug:127.0.0.1 - - [11/Jan/2023 09:56:24] \"\u001b[37mGET / HTTP/1.1\u001b[0m\" 200 -\n",
            "INFO:werkzeug:127.0.0.1 - - [11/Jan/2023 09:56:24] \"\u001b[33mGET /favicon.ico HTTP/1.1\u001b[0m\" 404 -\n",
            "INFO:werkzeug:127.0.0.1 - - [11/Jan/2023 09:56:24] \"\u001b[33mGET /cart.json HTTP/1.1\u001b[0m\" 404 -\n"
          ]
        }
      ],
      "source": [
        "from flask_ngrok import run_with_ngrok\n",
        "from flask import Flask\n",
        "\n",
        "app=Flask(__name__)\n",
        "\n",
        "run_with_ngrok(app)\n",
        "\n",
        "@app.route(\"/\")\n",
        "def index():\n",
        "  return \"This is my first website <h1> Hello World Ali Saeed</h1>\";\n",
        "app.run()"
      ]
    },
    {
      "cell_type": "code",
      "execution_count": null,
      "metadata": {
        "colab": {
          "base_uri": "https://localhost:8080/",
          "height": 130
        },
        "id": "js2REJ2NZQzR",
        "outputId": "286de96b-7f4c-4b56-dbc8-ef3e10912644"
      },
      "outputs": [
        {
          "ename": "SyntaxError",
          "evalue": "ignored",
          "output_type": "error",
          "traceback": [
            "\u001b[0;36m  File \u001b[0;32m\"<ipython-input-115-23cbf55e5cb7>\"\u001b[0;36m, line \u001b[0;32m1\u001b[0m\n\u001b[0;31m    ngrok config edit\u001b[0m\n\u001b[0m          ^\u001b[0m\n\u001b[0;31mSyntaxError\u001b[0m\u001b[0;31m:\u001b[0m invalid syntax\n"
          ]
        }
      ],
      "source": []
    }
  ],
  "metadata": {
    "colab": {
      "provenance": []
    },
    "kernelspec": {
      "display_name": "Python 3",
      "name": "python3"
    },
    "language_info": {
      "name": "python"
    }
  },
  "nbformat": 4,
  "nbformat_minor": 0
}